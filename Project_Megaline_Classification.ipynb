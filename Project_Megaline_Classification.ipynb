{
 "cells": [
  {
   "cell_type": "code",
   "execution_count": 15,
   "metadata": {},
   "outputs": [],
   "source": [
    "# importando as bibliotecas iniciais\n",
    "import pandas as pd\n",
    "import numpy as np\n",
    "from sklearn.metrics import mean_squared_error\n",
    "from sklearn.model_selection import train_test_split\n",
    "from sklearn.metrics import accuracy_score"
   ]
  },
  {
   "cell_type": "code",
   "execution_count": 16,
   "metadata": {
    "scrolled": true
   },
   "outputs": [],
   "source": [
    "# carregando os dados\n",
    "df = pd.read_csv('/datasets/users_behavior.csv')"
   ]
  },
  {
   "cell_type": "code",
   "execution_count": 17,
   "metadata": {
    "scrolled": false
   },
   "outputs": [
    {
     "name": "stdout",
     "output_type": "stream",
     "text": [
      "<class 'pandas.core.frame.DataFrame'>\n",
      "RangeIndex: 3214 entries, 0 to 3213\n",
      "Data columns (total 5 columns):\n",
      " #   Column    Non-Null Count  Dtype  \n",
      "---  ------    --------------  -----  \n",
      " 0   calls     3214 non-null   float64\n",
      " 1   minutes   3214 non-null   float64\n",
      " 2   messages  3214 non-null   float64\n",
      " 3   mb_used   3214 non-null   float64\n",
      " 4   is_ultra  3214 non-null   int64  \n",
      "dtypes: float64(4), int64(1)\n",
      "memory usage: 125.7 KB\n"
     ]
    }
   ],
   "source": [
    "# visualizando os tipos de dados\n",
    "df.info()"
   ]
  },
  {
   "cell_type": "code",
   "execution_count": 18,
   "metadata": {},
   "outputs": [
    {
     "data": {
      "text/html": [
       "<div>\n",
       "<style scoped>\n",
       "    .dataframe tbody tr th:only-of-type {\n",
       "        vertical-align: middle;\n",
       "    }\n",
       "\n",
       "    .dataframe tbody tr th {\n",
       "        vertical-align: top;\n",
       "    }\n",
       "\n",
       "    .dataframe thead th {\n",
       "        text-align: right;\n",
       "    }\n",
       "</style>\n",
       "<table border=\"1\" class=\"dataframe\">\n",
       "  <thead>\n",
       "    <tr style=\"text-align: right;\">\n",
       "      <th></th>\n",
       "      <th>calls</th>\n",
       "      <th>minutes</th>\n",
       "      <th>messages</th>\n",
       "      <th>mb_used</th>\n",
       "      <th>is_ultra</th>\n",
       "    </tr>\n",
       "  </thead>\n",
       "  <tbody>\n",
       "    <tr>\n",
       "      <th>1307</th>\n",
       "      <td>19.0</td>\n",
       "      <td>112.69</td>\n",
       "      <td>12.0</td>\n",
       "      <td>4312.96</td>\n",
       "      <td>0</td>\n",
       "    </tr>\n",
       "    <tr>\n",
       "      <th>84</th>\n",
       "      <td>56.0</td>\n",
       "      <td>397.14</td>\n",
       "      <td>42.0</td>\n",
       "      <td>8449.53</td>\n",
       "      <td>0</td>\n",
       "    </tr>\n",
       "    <tr>\n",
       "      <th>286</th>\n",
       "      <td>45.0</td>\n",
       "      <td>314.64</td>\n",
       "      <td>14.0</td>\n",
       "      <td>7332.79</td>\n",
       "      <td>0</td>\n",
       "    </tr>\n",
       "    <tr>\n",
       "      <th>3140</th>\n",
       "      <td>64.0</td>\n",
       "      <td>467.46</td>\n",
       "      <td>20.0</td>\n",
       "      <td>15527.23</td>\n",
       "      <td>0</td>\n",
       "    </tr>\n",
       "    <tr>\n",
       "      <th>38</th>\n",
       "      <td>23.0</td>\n",
       "      <td>146.18</td>\n",
       "      <td>33.0</td>\n",
       "      <td>9711.45</td>\n",
       "      <td>0</td>\n",
       "    </tr>\n",
       "    <tr>\n",
       "      <th>2315</th>\n",
       "      <td>48.0</td>\n",
       "      <td>341.65</td>\n",
       "      <td>0.0</td>\n",
       "      <td>19000.02</td>\n",
       "      <td>0</td>\n",
       "    </tr>\n",
       "    <tr>\n",
       "      <th>2741</th>\n",
       "      <td>81.0</td>\n",
       "      <td>532.33</td>\n",
       "      <td>61.0</td>\n",
       "      <td>7653.43</td>\n",
       "      <td>1</td>\n",
       "    </tr>\n",
       "    <tr>\n",
       "      <th>951</th>\n",
       "      <td>0.0</td>\n",
       "      <td>0.00</td>\n",
       "      <td>185.0</td>\n",
       "      <td>31032.94</td>\n",
       "      <td>1</td>\n",
       "    </tr>\n",
       "    <tr>\n",
       "      <th>1064</th>\n",
       "      <td>46.0</td>\n",
       "      <td>345.98</td>\n",
       "      <td>0.0</td>\n",
       "      <td>20980.25</td>\n",
       "      <td>0</td>\n",
       "    </tr>\n",
       "    <tr>\n",
       "      <th>3179</th>\n",
       "      <td>43.0</td>\n",
       "      <td>305.21</td>\n",
       "      <td>10.0</td>\n",
       "      <td>26607.42</td>\n",
       "      <td>0</td>\n",
       "    </tr>\n",
       "  </tbody>\n",
       "</table>\n",
       "</div>"
      ],
      "text/plain": [
       "      calls  minutes  messages   mb_used  is_ultra\n",
       "1307   19.0   112.69      12.0   4312.96         0\n",
       "84     56.0   397.14      42.0   8449.53         0\n",
       "286    45.0   314.64      14.0   7332.79         0\n",
       "3140   64.0   467.46      20.0  15527.23         0\n",
       "38     23.0   146.18      33.0   9711.45         0\n",
       "2315   48.0   341.65       0.0  19000.02         0\n",
       "2741   81.0   532.33      61.0   7653.43         1\n",
       "951     0.0     0.00     185.0  31032.94         1\n",
       "1064   46.0   345.98       0.0  20980.25         0\n",
       "3179   43.0   305.21      10.0  26607.42         0"
      ]
     },
     "execution_count": 18,
     "metadata": {},
     "output_type": "execute_result"
    }
   ],
   "source": [
    "df.sample(10)"
   ]
  },
  {
   "cell_type": "code",
   "execution_count": 19,
   "metadata": {},
   "outputs": [
    {
     "data": {
      "text/plain": [
       "True"
      ]
     },
     "execution_count": 19,
     "metadata": {},
     "output_type": "execute_result"
    }
   ],
   "source": [
    "# calls e messages poderiam ser convertidos para int pois não hã meia ligação ou meia mensagem\n",
    "\n",
    "# avaliando se haverá perda de dados na conversão do campos calls\n",
    "np.array_equal(df[\"calls\"],df[\"calls\"].astype(\"int\"))"
   ]
  },
  {
   "cell_type": "markdown",
   "metadata": {},
   "source": [
    "Conclusion: No data loss expected in calls if we convert datatype to integer "
   ]
  },
  {
   "cell_type": "code",
   "execution_count": 20,
   "metadata": {},
   "outputs": [],
   "source": [
    "# convertendo calls para int\n",
    "df[\"calls\"] = df[\"calls\"].astype(\"int\")"
   ]
  },
  {
   "cell_type": "code",
   "execution_count": 21,
   "metadata": {},
   "outputs": [
    {
     "data": {
      "text/plain": [
       "True"
      ]
     },
     "execution_count": 21,
     "metadata": {},
     "output_type": "execute_result"
    }
   ],
   "source": [
    "# avaliando se haverá perda de dados na conversão do campos messages\n",
    "np.array_equal(df[\"messages\"],df[\"messages\"].astype(\"int\"))"
   ]
  },
  {
   "cell_type": "markdown",
   "metadata": {},
   "source": [
    "Conclusion: No data loss expected in messages if we convert datatype to integer "
   ]
  },
  {
   "cell_type": "code",
   "execution_count": 22,
   "metadata": {},
   "outputs": [],
   "source": [
    "# convertendo messages para int\n",
    "df[\"messages\"] = df[\"messages\"].astype(\"int\")"
   ]
  },
  {
   "cell_type": "code",
   "execution_count": 23,
   "metadata": {},
   "outputs": [
    {
     "name": "stdout",
     "output_type": "stream",
     "text": [
      "<class 'pandas.core.frame.DataFrame'>\n",
      "RangeIndex: 3214 entries, 0 to 3213\n",
      "Data columns (total 5 columns):\n",
      " #   Column    Non-Null Count  Dtype  \n",
      "---  ------    --------------  -----  \n",
      " 0   calls     3214 non-null   int64  \n",
      " 1   minutes   3214 non-null   float64\n",
      " 2   messages  3214 non-null   int64  \n",
      " 3   mb_used   3214 non-null   float64\n",
      " 4   is_ultra  3214 non-null   int64  \n",
      "dtypes: float64(2), int64(3)\n",
      "memory usage: 125.7 KB\n"
     ]
    }
   ],
   "source": [
    "# visualizando os tipos de dados novamente\n",
    "df.info()"
   ]
  },
  {
   "cell_type": "code",
   "execution_count": 24,
   "metadata": {
    "scrolled": false
   },
   "outputs": [
    {
     "data": {
      "text/html": [
       "<div>\n",
       "<style scoped>\n",
       "    .dataframe tbody tr th:only-of-type {\n",
       "        vertical-align: middle;\n",
       "    }\n",
       "\n",
       "    .dataframe tbody tr th {\n",
       "        vertical-align: top;\n",
       "    }\n",
       "\n",
       "    .dataframe thead th {\n",
       "        text-align: right;\n",
       "    }\n",
       "</style>\n",
       "<table border=\"1\" class=\"dataframe\">\n",
       "  <thead>\n",
       "    <tr style=\"text-align: right;\">\n",
       "      <th></th>\n",
       "      <th>calls</th>\n",
       "      <th>minutes</th>\n",
       "      <th>messages</th>\n",
       "      <th>mb_used</th>\n",
       "      <th>is_ultra</th>\n",
       "    </tr>\n",
       "  </thead>\n",
       "  <tbody>\n",
       "    <tr>\n",
       "      <th>1134</th>\n",
       "      <td>17</td>\n",
       "      <td>138.90</td>\n",
       "      <td>10</td>\n",
       "      <td>3272.89</td>\n",
       "      <td>1</td>\n",
       "    </tr>\n",
       "    <tr>\n",
       "      <th>621</th>\n",
       "      <td>67</td>\n",
       "      <td>505.34</td>\n",
       "      <td>79</td>\n",
       "      <td>31408.79</td>\n",
       "      <td>1</td>\n",
       "    </tr>\n",
       "    <tr>\n",
       "      <th>799</th>\n",
       "      <td>83</td>\n",
       "      <td>519.66</td>\n",
       "      <td>52</td>\n",
       "      <td>15821.17</td>\n",
       "      <td>0</td>\n",
       "    </tr>\n",
       "    <tr>\n",
       "      <th>3002</th>\n",
       "      <td>35</td>\n",
       "      <td>213.87</td>\n",
       "      <td>15</td>\n",
       "      <td>20097.61</td>\n",
       "      <td>0</td>\n",
       "    </tr>\n",
       "    <tr>\n",
       "      <th>7</th>\n",
       "      <td>15</td>\n",
       "      <td>132.40</td>\n",
       "      <td>6</td>\n",
       "      <td>21911.60</td>\n",
       "      <td>0</td>\n",
       "    </tr>\n",
       "    <tr>\n",
       "      <th>205</th>\n",
       "      <td>95</td>\n",
       "      <td>672.78</td>\n",
       "      <td>15</td>\n",
       "      <td>3315.76</td>\n",
       "      <td>1</td>\n",
       "    </tr>\n",
       "    <tr>\n",
       "      <th>836</th>\n",
       "      <td>113</td>\n",
       "      <td>707.79</td>\n",
       "      <td>0</td>\n",
       "      <td>21008.04</td>\n",
       "      <td>0</td>\n",
       "    </tr>\n",
       "    <tr>\n",
       "      <th>1472</th>\n",
       "      <td>94</td>\n",
       "      <td>569.22</td>\n",
       "      <td>155</td>\n",
       "      <td>23422.79</td>\n",
       "      <td>1</td>\n",
       "    </tr>\n",
       "    <tr>\n",
       "      <th>1240</th>\n",
       "      <td>123</td>\n",
       "      <td>832.33</td>\n",
       "      <td>6</td>\n",
       "      <td>14670.49</td>\n",
       "      <td>1</td>\n",
       "    </tr>\n",
       "    <tr>\n",
       "      <th>574</th>\n",
       "      <td>11</td>\n",
       "      <td>77.94</td>\n",
       "      <td>28</td>\n",
       "      <td>25052.44</td>\n",
       "      <td>0</td>\n",
       "    </tr>\n",
       "  </tbody>\n",
       "</table>\n",
       "</div>"
      ],
      "text/plain": [
       "      calls  minutes  messages   mb_used  is_ultra\n",
       "1134     17   138.90        10   3272.89         1\n",
       "621      67   505.34        79  31408.79         1\n",
       "799      83   519.66        52  15821.17         0\n",
       "3002     35   213.87        15  20097.61         0\n",
       "7        15   132.40         6  21911.60         0\n",
       "205      95   672.78        15   3315.76         1\n",
       "836     113   707.79         0  21008.04         0\n",
       "1472     94   569.22       155  23422.79         1\n",
       "1240    123   832.33         6  14670.49         1\n",
       "574      11    77.94        28  25052.44         0"
      ]
     },
     "execution_count": 24,
     "metadata": {},
     "output_type": "execute_result"
    }
   ],
   "source": [
    "# visualizando os dados\n",
    "df.sample(10)"
   ]
  },
  {
   "cell_type": "code",
   "execution_count": 25,
   "metadata": {},
   "outputs": [
    {
     "name": "stdout",
     "output_type": "stream",
     "text": [
      "is_ultra\n",
      "0    0.693528\n",
      "1    0.306472\n",
      "Name: is_ultra, dtype: float64\n"
     ]
    }
   ],
   "source": [
    "balance = df.groupby(\"is_ultra\")[\"is_ultra\"].count()\n",
    "total = balance.sum()\n",
    "percentages = (balance/total)\n",
    "print(percentages)"
   ]
  },
  {
   "cell_type": "markdown",
   "metadata": {},
   "source": [
    "Conclusion: We have about 70% of records in the Smart Plan and 30% on the Ultra Plan"
   ]
  },
  {
   "cell_type": "code",
   "execution_count": 26,
   "metadata": {},
   "outputs": [],
   "source": [
    "# Divida os dados de origem em um conjunto de treinamento, um conjunto de validação e um conjunto de teste.\n",
    "\n",
    "# estamos lidando com um problema de classificação, pois o plano sugerido só pode ser ultra ou smart.\n",
    "# podemos, portanto testar os seguintes modelos: Arvore de Decisão, Floresta Aleatória e Regressão logística"
   ]
  },
  {
   "cell_type": "code",
   "execution_count": 27,
   "metadata": {},
   "outputs": [],
   "source": [
    "# importando bibliotecas dos modelos\n",
    "from sklearn.tree import DecisionTreeClassifier\n",
    "from sklearn.ensemble import RandomForestClassifier\n",
    "from sklearn.linear_model import LogisticRegression"
   ]
  },
  {
   "cell_type": "code",
   "execution_count": 28,
   "metadata": {},
   "outputs": [],
   "source": [
    "# criando conjunto de treinamento e validação\n",
    "df_train,df_valid = train_test_split(df, test_size=.4, random_state=12345)"
   ]
  },
  {
   "cell_type": "code",
   "execution_count": 29,
   "metadata": {},
   "outputs": [],
   "source": [
    "# dividindo o conjunto de validação em validação e teste\n",
    "df_valid,df_test = train_test_split(df_valid,test_size =.5, random_state=12345)"
   ]
  },
  {
   "cell_type": "code",
   "execution_count": 30,
   "metadata": {},
   "outputs": [],
   "source": [
    "# Preparando os dados nos 3 conjuntos\n",
    "\n",
    "features_train = df_train.drop([\"is_ultra\"], axis=1)\n",
    "target_train = df_train[\"is_ultra\"]\n",
    "\n",
    "features_valid = df_valid.drop([\"is_ultra\"],axis=1)\n",
    "target_valid = df_valid[\"is_ultra\"]\n",
    "\n",
    "features_test = df_test.drop([\"is_ultra\"],axis=1)\n",
    "target_test = df_test[\"is_ultra\"]"
   ]
  },
  {
   "cell_type": "code",
   "execution_count": 31,
   "metadata": {},
   "outputs": [
    {
     "name": "stdout",
     "output_type": "stream",
     "text": [
      "Acurácia do melhor modelo de árvore de decisão no conjunto de validação (max_depth = 3): 0.7853810264385692\n"
     ]
    }
   ],
   "source": [
    "# Modelo de Árvore de Decisão\n",
    "\n",
    "# criando um loop para encontrar a max_depth ideal\n",
    "best_acc = 0\n",
    "best_depth = 0\n",
    "\n",
    "for depth in range(1,11):\n",
    "\n",
    "    # instanciando o modelo\n",
    "    treemodel = DecisionTreeClassifier(random_state=12345, max_depth=depth)\n",
    "\n",
    "    # treinando o modelo\n",
    "    treemodel.fit(features_train,target_train)\n",
    "\n",
    "    # testando previsões conjunto de validação\n",
    "    valid_predictions = treemodel.predict(features_valid)\n",
    "    \n",
    "    # calculando accuracy conjunto de validação\n",
    "    acc = accuracy_score(target_valid,valid_predictions)\n",
    "    \n",
    "    # identificando os melhores resultados conjunto de validação\n",
    "    if acc > best_acc:\n",
    "        best_acc = acc\n",
    "        best_depth = depth\n",
    "\n",
    "print(\"Acurácia do melhor modelo de árvore de decisão no conjunto de validação (max_depth = {}): {}\".format(best_depth, best_acc))"
   ]
  },
  {
   "cell_type": "code",
   "execution_count": 50,
   "metadata": {},
   "outputs": [
    {
     "name": "stdout",
     "output_type": "stream",
     "text": [
      "Best Parameters:  {'criterion': 'entropy', 'max_depth': 7, 'min_samples_leaf': 10, 'min_samples_split': 5}\n",
      "Best Score:  0.8086158401184308\n"
     ]
    }
   ],
   "source": [
    "# Modelo de Árvore de Decisão\n",
    "# otimizando hiperparametros na Arvore de Decisao\n",
    "\n",
    "# importando gridsearch\n",
    "from sklearn.model_selection import GridSearchCV\n",
    "\n",
    "# Definindo os hiperparametros\n",
    "param_grid = {\n",
    "    'min_samples_split': [2, 5, 10],\n",
    "    'min_samples_leaf': [1, 5, 10],\n",
    "    'criterion': ['gini', 'entropy'],\n",
    "    'max_depth': [2,3,5,7,10]\n",
    "}\n",
    "\n",
    "# Instanciando o modelo\n",
    "dtc = DecisionTreeClassifier()\n",
    "\n",
    "# instanciando o GridSearchCV\n",
    "grid_search = GridSearchCV(estimator=dtc, param_grid=param_grid, cv=5, scoring='accuracy')\n",
    "\n",
    "# Fazendo o fit\n",
    "grid_search.fit(features_train, target_train)\n",
    "\n",
    "# coletando resultados\n",
    "print(\"Best Parameters: \", grid_search.best_params_)\n",
    "print(\"Best Score: \", grid_search.best_score_)"
   ]
  },
  {
   "cell_type": "code",
   "execution_count": 51,
   "metadata": {},
   "outputs": [
    {
     "name": "stdout",
     "output_type": "stream",
     "text": [
      "Acurácia do melhor modelo de árvore de decisão no conjunto de teste e hiperparametros otimizados): 0.7916018662519441\n"
     ]
    }
   ],
   "source": [
    "# rodando o modelo de Árvore de Decisão novamente, agora com conjunto de teste e hiperparametros otimizados\n",
    "\n",
    "# instanciando o modelo\n",
    "treemodel = DecisionTreeClassifier(random_state=12345, criterion=\"entropy\", max_depth=7, min_samples_leaf=10, min_samples_split=5 )\n",
    "\n",
    "# treinando o modelo\n",
    "treemodel.fit(features_train,target_train)\n",
    "\n",
    "# testando previsões conjunto de teste\n",
    "test_predictions = treemodel.predict(features_test)\n",
    "\n",
    "# calculando accuracy conjunto de teste\n",
    "acc_test = accuracy_score(target_test,test_predictions)\n",
    "\n",
    "print(\"Acurácia do melhor modelo de árvore de decisão no conjunto de teste e hiperparametros otimizados):\",acc_test)"
   ]
  },
  {
   "cell_type": "code",
   "execution_count": 45,
   "metadata": {},
   "outputs": [
    {
     "name": "stdout",
     "output_type": "stream",
     "text": [
      "Acurácia do melhor modelo de Floresta Aleatória no conjunto de validação (n_estimators = 12): 0.7869362363919129\n"
     ]
    }
   ],
   "source": [
    "# Modelo de Floresta Aleatória\n",
    "\n",
    "# criando um laço para encontrar n_estimators ideal\n",
    "best_score = 0\n",
    "best_est = 0\n",
    "\n",
    "for est in range(1, 16):\n",
    "    # instanciando o modelo\n",
    "    forestmodel = RandomForestClassifier(random_state=12345, n_estimators=est)\n",
    "    \n",
    "    # treinando o modelo\n",
    "    forestmodel.fit(features_train,target_train)\n",
    "    \n",
    "    # calculando score\n",
    "    score = forestmodel.score(features_valid,target_valid)\n",
    "    \n",
    "    # identificando melhores resultados\n",
    "    if score > best_score:\n",
    "        best_score = score\n",
    "        best_est = est\n",
    "\n",
    "print(\"Acurácia do melhor modelo de Floresta Aleatória no conjunto de validação (n_estimators = {}): {}\".format(best_est, best_score))"
   ]
  },
  {
   "cell_type": "code",
   "execution_count": 46,
   "metadata": {},
   "outputs": [
    {
     "name": "stdout",
     "output_type": "stream",
     "text": [
      "Best Parameters:  {'max_features': 'sqrt', 'min_samples_leaf': 10, 'min_samples_split': 10, 'n_estimators': 10}\n",
      "Best Score:  0.8195128187874301\n"
     ]
    }
   ],
   "source": [
    "# Modelo de Floresta Aleatória\n",
    "# otimizando hiperparametros na Arvore de Decisao\n",
    "\n",
    "# Definindo os hiperparametros\n",
    "param_grid = {\n",
    "    'max_features': ['auto', 'sqrt', 'log2'],\n",
    "    'min_samples_split': [2, 5, 10],\n",
    "    'min_samples_leaf': [1, 5, 10],\n",
    "    'n_estimators':[2, 5, 10, 12, 15]\n",
    "}\n",
    "\n",
    "# Instanciando o modelo\n",
    "rfc = RandomForestClassifier()\n",
    "\n",
    "# instanciando o GridSearchCV\n",
    "rfcgrid_search = GridSearchCV(estimator=rfc, param_grid=param_grid, cv=5, scoring='accuracy')\n",
    "\n",
    "# treinando o modelo\n",
    "rfcgrid_search.fit(features_train, target_train)\n",
    "\n",
    "# coletando resultados\n",
    "print(\"Best Parameters: \", rfcgrid_search.best_params_)\n",
    "print(\"Best Score: \", rfcgrid_search.best_score_)"
   ]
  },
  {
   "cell_type": "code",
   "execution_count": 52,
   "metadata": {},
   "outputs": [
    {
     "name": "stdout",
     "output_type": "stream",
     "text": [
      "Acurácia do melhor modelo de Floresta Aleatória no conjunto de teste e hiperparametros otimizados: 0.7978227060653188\n"
     ]
    }
   ],
   "source": [
    "# rodando o modelo de Floresta Aleatória com conjunto de teste e hiperparametros otimizados\n",
    "\n",
    "# instanciando o modelo\n",
    "forestmodel = RandomForestClassifier(random_state=12345, n_estimators=10, max_features=\"sqrt\", min_samples_leaf=10, min_samples_split=10)\n",
    "\n",
    "# treinando o modelo\n",
    "forestmodel.fit(features_train,target_train)\n",
    "\n",
    "# calculando score\n",
    "score_test = forestmodel.score(features_test,target_test)\n",
    "\n",
    "print(\"Acurácia do melhor modelo de Floresta Aleatória no conjunto de teste e hiperparametros otimizados:\", score_test)"
   ]
  },
  {
   "cell_type": "code",
   "execution_count": 57,
   "metadata": {
    "scrolled": true
   },
   "outputs": [
    {
     "name": "stderr",
     "output_type": "stream",
     "text": [
      "/opt/conda/envs/python3/lib/python3.9/site-packages/sklearn/linear_model/_sag.py:328: ConvergenceWarning: The max_iter was reached which means the coef_ did not converge\n",
      "  warnings.warn(\"The max_iter was reached which means \"\n",
      "/opt/conda/envs/python3/lib/python3.9/site-packages/sklearn/linear_model/_sag.py:328: ConvergenceWarning: The max_iter was reached which means the coef_ did not converge\n",
      "  warnings.warn(\"The max_iter was reached which means \"\n",
      "/opt/conda/envs/python3/lib/python3.9/site-packages/sklearn/linear_model/_sag.py:328: ConvergenceWarning: The max_iter was reached which means the coef_ did not converge\n",
      "  warnings.warn(\"The max_iter was reached which means \"\n",
      "/opt/conda/envs/python3/lib/python3.9/site-packages/sklearn/linear_model/_sag.py:328: ConvergenceWarning: The max_iter was reached which means the coef_ did not converge\n",
      "  warnings.warn(\"The max_iter was reached which means \"\n",
      "/opt/conda/envs/python3/lib/python3.9/site-packages/sklearn/linear_model/_sag.py:328: ConvergenceWarning: The max_iter was reached which means the coef_ did not converge\n",
      "  warnings.warn(\"The max_iter was reached which means \"\n",
      "/opt/conda/envs/python3/lib/python3.9/site-packages/sklearn/linear_model/_sag.py:328: ConvergenceWarning: The max_iter was reached which means the coef_ did not converge\n",
      "  warnings.warn(\"The max_iter was reached which means \"\n",
      "/opt/conda/envs/python3/lib/python3.9/site-packages/sklearn/linear_model/_sag.py:328: ConvergenceWarning: The max_iter was reached which means the coef_ did not converge\n",
      "  warnings.warn(\"The max_iter was reached which means \"\n",
      "/opt/conda/envs/python3/lib/python3.9/site-packages/sklearn/linear_model/_sag.py:328: ConvergenceWarning: The max_iter was reached which means the coef_ did not converge\n",
      "  warnings.warn(\"The max_iter was reached which means \"\n",
      "/opt/conda/envs/python3/lib/python3.9/site-packages/sklearn/linear_model/_sag.py:328: ConvergenceWarning: The max_iter was reached which means the coef_ did not converge\n",
      "  warnings.warn(\"The max_iter was reached which means \"\n",
      "/opt/conda/envs/python3/lib/python3.9/site-packages/sklearn/linear_model/_sag.py:328: ConvergenceWarning: The max_iter was reached which means the coef_ did not converge\n",
      "  warnings.warn(\"The max_iter was reached which means \"\n",
      "/opt/conda/envs/python3/lib/python3.9/site-packages/sklearn/linear_model/_sag.py:328: ConvergenceWarning: The max_iter was reached which means the coef_ did not converge\n",
      "  warnings.warn(\"The max_iter was reached which means \"\n",
      "/opt/conda/envs/python3/lib/python3.9/site-packages/sklearn/linear_model/_sag.py:328: ConvergenceWarning: The max_iter was reached which means the coef_ did not converge\n",
      "  warnings.warn(\"The max_iter was reached which means \"\n",
      "/opt/conda/envs/python3/lib/python3.9/site-packages/sklearn/linear_model/_sag.py:328: ConvergenceWarning: The max_iter was reached which means the coef_ did not converge\n",
      "  warnings.warn(\"The max_iter was reached which means \"\n",
      "/opt/conda/envs/python3/lib/python3.9/site-packages/sklearn/linear_model/_sag.py:328: ConvergenceWarning: The max_iter was reached which means the coef_ did not converge\n",
      "  warnings.warn(\"The max_iter was reached which means \"\n",
      "/opt/conda/envs/python3/lib/python3.9/site-packages/sklearn/linear_model/_sag.py:328: ConvergenceWarning: The max_iter was reached which means the coef_ did not converge\n",
      "  warnings.warn(\"The max_iter was reached which means \"\n",
      "/opt/conda/envs/python3/lib/python3.9/site-packages/sklearn/linear_model/_sag.py:328: ConvergenceWarning: The max_iter was reached which means the coef_ did not converge\n",
      "  warnings.warn(\"The max_iter was reached which means \"\n",
      "/opt/conda/envs/python3/lib/python3.9/site-packages/sklearn/linear_model/_sag.py:328: ConvergenceWarning: The max_iter was reached which means the coef_ did not converge\n",
      "  warnings.warn(\"The max_iter was reached which means \"\n",
      "/opt/conda/envs/python3/lib/python3.9/site-packages/sklearn/linear_model/_sag.py:328: ConvergenceWarning: The max_iter was reached which means the coef_ did not converge\n",
      "  warnings.warn(\"The max_iter was reached which means \"\n",
      "/opt/conda/envs/python3/lib/python3.9/site-packages/sklearn/linear_model/_sag.py:328: ConvergenceWarning: The max_iter was reached which means the coef_ did not converge\n",
      "  warnings.warn(\"The max_iter was reached which means \"\n",
      "/opt/conda/envs/python3/lib/python3.9/site-packages/sklearn/linear_model/_sag.py:328: ConvergenceWarning: The max_iter was reached which means the coef_ did not converge\n",
      "  warnings.warn(\"The max_iter was reached which means \"\n",
      "/opt/conda/envs/python3/lib/python3.9/site-packages/sklearn/linear_model/_sag.py:328: ConvergenceWarning: The max_iter was reached which means the coef_ did not converge\n",
      "  warnings.warn(\"The max_iter was reached which means \"\n",
      "/opt/conda/envs/python3/lib/python3.9/site-packages/sklearn/linear_model/_sag.py:328: ConvergenceWarning: The max_iter was reached which means the coef_ did not converge\n",
      "  warnings.warn(\"The max_iter was reached which means \"\n",
      "/opt/conda/envs/python3/lib/python3.9/site-packages/sklearn/linear_model/_sag.py:328: ConvergenceWarning: The max_iter was reached which means the coef_ did not converge\n",
      "  warnings.warn(\"The max_iter was reached which means \"\n",
      "/opt/conda/envs/python3/lib/python3.9/site-packages/sklearn/linear_model/_sag.py:328: ConvergenceWarning: The max_iter was reached which means the coef_ did not converge\n",
      "  warnings.warn(\"The max_iter was reached which means \"\n",
      "/opt/conda/envs/python3/lib/python3.9/site-packages/sklearn/linear_model/_sag.py:328: ConvergenceWarning: The max_iter was reached which means the coef_ did not converge\n",
      "  warnings.warn(\"The max_iter was reached which means \"\n",
      "/opt/conda/envs/python3/lib/python3.9/site-packages/sklearn/linear_model/_sag.py:328: ConvergenceWarning: The max_iter was reached which means the coef_ did not converge\n",
      "  warnings.warn(\"The max_iter was reached which means \"\n",
      "/opt/conda/envs/python3/lib/python3.9/site-packages/sklearn/linear_model/_sag.py:328: ConvergenceWarning: The max_iter was reached which means the coef_ did not converge\n",
      "  warnings.warn(\"The max_iter was reached which means \"\n",
      "/opt/conda/envs/python3/lib/python3.9/site-packages/sklearn/linear_model/_sag.py:328: ConvergenceWarning: The max_iter was reached which means the coef_ did not converge\n",
      "  warnings.warn(\"The max_iter was reached which means \"\n",
      "/opt/conda/envs/python3/lib/python3.9/site-packages/sklearn/linear_model/_sag.py:328: ConvergenceWarning: The max_iter was reached which means the coef_ did not converge\n",
      "  warnings.warn(\"The max_iter was reached which means \"\n",
      "/opt/conda/envs/python3/lib/python3.9/site-packages/sklearn/linear_model/_sag.py:328: ConvergenceWarning: The max_iter was reached which means the coef_ did not converge\n",
      "  warnings.warn(\"The max_iter was reached which means \"\n",
      "/opt/conda/envs/python3/lib/python3.9/site-packages/sklearn/linear_model/_sag.py:328: ConvergenceWarning: The max_iter was reached which means the coef_ did not converge\n",
      "  warnings.warn(\"The max_iter was reached which means \"\n",
      "/opt/conda/envs/python3/lib/python3.9/site-packages/sklearn/linear_model/_sag.py:328: ConvergenceWarning: The max_iter was reached which means the coef_ did not converge\n",
      "  warnings.warn(\"The max_iter was reached which means \"\n",
      "/opt/conda/envs/python3/lib/python3.9/site-packages/sklearn/linear_model/_sag.py:328: ConvergenceWarning: The max_iter was reached which means the coef_ did not converge\n",
      "  warnings.warn(\"The max_iter was reached which means \"\n",
      "/opt/conda/envs/python3/lib/python3.9/site-packages/sklearn/linear_model/_sag.py:328: ConvergenceWarning: The max_iter was reached which means the coef_ did not converge\n",
      "  warnings.warn(\"The max_iter was reached which means \"\n",
      "/opt/conda/envs/python3/lib/python3.9/site-packages/sklearn/linear_model/_sag.py:328: ConvergenceWarning: The max_iter was reached which means the coef_ did not converge\n",
      "  warnings.warn(\"The max_iter was reached which means \"\n",
      "/opt/conda/envs/python3/lib/python3.9/site-packages/sklearn/linear_model/_sag.py:328: ConvergenceWarning: The max_iter was reached which means the coef_ did not converge\n",
      "  warnings.warn(\"The max_iter was reached which means \"\n",
      "/opt/conda/envs/python3/lib/python3.9/site-packages/sklearn/linear_model/_sag.py:328: ConvergenceWarning: The max_iter was reached which means the coef_ did not converge\n",
      "  warnings.warn(\"The max_iter was reached which means \"\n",
      "/opt/conda/envs/python3/lib/python3.9/site-packages/sklearn/linear_model/_sag.py:328: ConvergenceWarning: The max_iter was reached which means the coef_ did not converge\n",
      "  warnings.warn(\"The max_iter was reached which means \"\n"
     ]
    },
    {
     "name": "stderr",
     "output_type": "stream",
     "text": [
      "/opt/conda/envs/python3/lib/python3.9/site-packages/sklearn/linear_model/_sag.py:328: ConvergenceWarning: The max_iter was reached which means the coef_ did not converge\n",
      "  warnings.warn(\"The max_iter was reached which means \"\n",
      "/opt/conda/envs/python3/lib/python3.9/site-packages/sklearn/linear_model/_sag.py:328: ConvergenceWarning: The max_iter was reached which means the coef_ did not converge\n",
      "  warnings.warn(\"The max_iter was reached which means \"\n",
      "/opt/conda/envs/python3/lib/python3.9/site-packages/sklearn/linear_model/_sag.py:328: ConvergenceWarning: The max_iter was reached which means the coef_ did not converge\n",
      "  warnings.warn(\"The max_iter was reached which means \"\n",
      "/opt/conda/envs/python3/lib/python3.9/site-packages/sklearn/linear_model/_sag.py:328: ConvergenceWarning: The max_iter was reached which means the coef_ did not converge\n",
      "  warnings.warn(\"The max_iter was reached which means \"\n",
      "/opt/conda/envs/python3/lib/python3.9/site-packages/sklearn/linear_model/_sag.py:328: ConvergenceWarning: The max_iter was reached which means the coef_ did not converge\n",
      "  warnings.warn(\"The max_iter was reached which means \"\n",
      "/opt/conda/envs/python3/lib/python3.9/site-packages/sklearn/linear_model/_sag.py:328: ConvergenceWarning: The max_iter was reached which means the coef_ did not converge\n",
      "  warnings.warn(\"The max_iter was reached which means \"\n",
      "/opt/conda/envs/python3/lib/python3.9/site-packages/sklearn/linear_model/_sag.py:328: ConvergenceWarning: The max_iter was reached which means the coef_ did not converge\n",
      "  warnings.warn(\"The max_iter was reached which means \"\n",
      "/opt/conda/envs/python3/lib/python3.9/site-packages/sklearn/linear_model/_sag.py:328: ConvergenceWarning: The max_iter was reached which means the coef_ did not converge\n",
      "  warnings.warn(\"The max_iter was reached which means \"\n",
      "/opt/conda/envs/python3/lib/python3.9/site-packages/sklearn/linear_model/_sag.py:328: ConvergenceWarning: The max_iter was reached which means the coef_ did not converge\n",
      "  warnings.warn(\"The max_iter was reached which means \"\n",
      "/opt/conda/envs/python3/lib/python3.9/site-packages/sklearn/linear_model/_sag.py:328: ConvergenceWarning: The max_iter was reached which means the coef_ did not converge\n",
      "  warnings.warn(\"The max_iter was reached which means \"\n",
      "/opt/conda/envs/python3/lib/python3.9/site-packages/sklearn/linear_model/_sag.py:328: ConvergenceWarning: The max_iter was reached which means the coef_ did not converge\n",
      "  warnings.warn(\"The max_iter was reached which means \"\n",
      "/opt/conda/envs/python3/lib/python3.9/site-packages/sklearn/linear_model/_sag.py:328: ConvergenceWarning: The max_iter was reached which means the coef_ did not converge\n",
      "  warnings.warn(\"The max_iter was reached which means \"\n",
      "/opt/conda/envs/python3/lib/python3.9/site-packages/sklearn/linear_model/_sag.py:328: ConvergenceWarning: The max_iter was reached which means the coef_ did not converge\n",
      "  warnings.warn(\"The max_iter was reached which means \"\n",
      "/opt/conda/envs/python3/lib/python3.9/site-packages/sklearn/linear_model/_sag.py:328: ConvergenceWarning: The max_iter was reached which means the coef_ did not converge\n",
      "  warnings.warn(\"The max_iter was reached which means \"\n",
      "/opt/conda/envs/python3/lib/python3.9/site-packages/sklearn/linear_model/_sag.py:328: ConvergenceWarning: The max_iter was reached which means the coef_ did not converge\n",
      "  warnings.warn(\"The max_iter was reached which means \"\n",
      "/opt/conda/envs/python3/lib/python3.9/site-packages/sklearn/linear_model/_sag.py:328: ConvergenceWarning: The max_iter was reached which means the coef_ did not converge\n",
      "  warnings.warn(\"The max_iter was reached which means \"\n",
      "/opt/conda/envs/python3/lib/python3.9/site-packages/sklearn/linear_model/_sag.py:328: ConvergenceWarning: The max_iter was reached which means the coef_ did not converge\n",
      "  warnings.warn(\"The max_iter was reached which means \"\n",
      "/opt/conda/envs/python3/lib/python3.9/site-packages/sklearn/linear_model/_sag.py:328: ConvergenceWarning: The max_iter was reached which means the coef_ did not converge\n",
      "  warnings.warn(\"The max_iter was reached which means \"\n",
      "/opt/conda/envs/python3/lib/python3.9/site-packages/sklearn/linear_model/_sag.py:328: ConvergenceWarning: The max_iter was reached which means the coef_ did not converge\n",
      "  warnings.warn(\"The max_iter was reached which means \"\n",
      "/opt/conda/envs/python3/lib/python3.9/site-packages/sklearn/linear_model/_sag.py:328: ConvergenceWarning: The max_iter was reached which means the coef_ did not converge\n",
      "  warnings.warn(\"The max_iter was reached which means \"\n",
      "/opt/conda/envs/python3/lib/python3.9/site-packages/sklearn/linear_model/_sag.py:328: ConvergenceWarning: The max_iter was reached which means the coef_ did not converge\n",
      "  warnings.warn(\"The max_iter was reached which means \"\n",
      "/opt/conda/envs/python3/lib/python3.9/site-packages/sklearn/linear_model/_sag.py:328: ConvergenceWarning: The max_iter was reached which means the coef_ did not converge\n",
      "  warnings.warn(\"The max_iter was reached which means \"\n",
      "/opt/conda/envs/python3/lib/python3.9/site-packages/sklearn/linear_model/_sag.py:328: ConvergenceWarning: The max_iter was reached which means the coef_ did not converge\n",
      "  warnings.warn(\"The max_iter was reached which means \"\n",
      "/opt/conda/envs/python3/lib/python3.9/site-packages/sklearn/linear_model/_sag.py:328: ConvergenceWarning: The max_iter was reached which means the coef_ did not converge\n",
      "  warnings.warn(\"The max_iter was reached which means \"\n",
      "/opt/conda/envs/python3/lib/python3.9/site-packages/sklearn/linear_model/_sag.py:328: ConvergenceWarning: The max_iter was reached which means the coef_ did not converge\n",
      "  warnings.warn(\"The max_iter was reached which means \"\n",
      "/opt/conda/envs/python3/lib/python3.9/site-packages/sklearn/linear_model/_sag.py:328: ConvergenceWarning: The max_iter was reached which means the coef_ did not converge\n",
      "  warnings.warn(\"The max_iter was reached which means \"\n",
      "/opt/conda/envs/python3/lib/python3.9/site-packages/sklearn/linear_model/_sag.py:328: ConvergenceWarning: The max_iter was reached which means the coef_ did not converge\n",
      "  warnings.warn(\"The max_iter was reached which means \"\n",
      "/opt/conda/envs/python3/lib/python3.9/site-packages/sklearn/linear_model/_sag.py:328: ConvergenceWarning: The max_iter was reached which means the coef_ did not converge\n",
      "  warnings.warn(\"The max_iter was reached which means \"\n",
      "/opt/conda/envs/python3/lib/python3.9/site-packages/sklearn/linear_model/_sag.py:328: ConvergenceWarning: The max_iter was reached which means the coef_ did not converge\n",
      "  warnings.warn(\"The max_iter was reached which means \"\n",
      "/opt/conda/envs/python3/lib/python3.9/site-packages/sklearn/linear_model/_sag.py:328: ConvergenceWarning: The max_iter was reached which means the coef_ did not converge\n",
      "  warnings.warn(\"The max_iter was reached which means \"\n",
      "/opt/conda/envs/python3/lib/python3.9/site-packages/sklearn/linear_model/_sag.py:328: ConvergenceWarning: The max_iter was reached which means the coef_ did not converge\n",
      "  warnings.warn(\"The max_iter was reached which means \"\n",
      "/opt/conda/envs/python3/lib/python3.9/site-packages/sklearn/linear_model/_sag.py:328: ConvergenceWarning: The max_iter was reached which means the coef_ did not converge\n",
      "  warnings.warn(\"The max_iter was reached which means \"\n",
      "/opt/conda/envs/python3/lib/python3.9/site-packages/sklearn/linear_model/_sag.py:328: ConvergenceWarning: The max_iter was reached which means the coef_ did not converge\n",
      "  warnings.warn(\"The max_iter was reached which means \"\n",
      "/opt/conda/envs/python3/lib/python3.9/site-packages/sklearn/linear_model/_sag.py:328: ConvergenceWarning: The max_iter was reached which means the coef_ did not converge\n",
      "  warnings.warn(\"The max_iter was reached which means \"\n",
      "/opt/conda/envs/python3/lib/python3.9/site-packages/sklearn/linear_model/_sag.py:328: ConvergenceWarning: The max_iter was reached which means the coef_ did not converge\n",
      "  warnings.warn(\"The max_iter was reached which means \"\n",
      "/opt/conda/envs/python3/lib/python3.9/site-packages/sklearn/linear_model/_sag.py:328: ConvergenceWarning: The max_iter was reached which means the coef_ did not converge\n",
      "  warnings.warn(\"The max_iter was reached which means \"\n",
      "/opt/conda/envs/python3/lib/python3.9/site-packages/sklearn/linear_model/_sag.py:328: ConvergenceWarning: The max_iter was reached which means the coef_ did not converge\n",
      "  warnings.warn(\"The max_iter was reached which means \"\n",
      "/opt/conda/envs/python3/lib/python3.9/site-packages/sklearn/linear_model/_sag.py:328: ConvergenceWarning: The max_iter was reached which means the coef_ did not converge\n",
      "  warnings.warn(\"The max_iter was reached which means \"\n"
     ]
    },
    {
     "name": "stderr",
     "output_type": "stream",
     "text": [
      "/opt/conda/envs/python3/lib/python3.9/site-packages/sklearn/linear_model/_sag.py:328: ConvergenceWarning: The max_iter was reached which means the coef_ did not converge\n",
      "  warnings.warn(\"The max_iter was reached which means \"\n",
      "/opt/conda/envs/python3/lib/python3.9/site-packages/sklearn/linear_model/_sag.py:328: ConvergenceWarning: The max_iter was reached which means the coef_ did not converge\n",
      "  warnings.warn(\"The max_iter was reached which means \"\n",
      "/opt/conda/envs/python3/lib/python3.9/site-packages/sklearn/linear_model/_sag.py:328: ConvergenceWarning: The max_iter was reached which means the coef_ did not converge\n",
      "  warnings.warn(\"The max_iter was reached which means \"\n",
      "/opt/conda/envs/python3/lib/python3.9/site-packages/sklearn/linear_model/_sag.py:328: ConvergenceWarning: The max_iter was reached which means the coef_ did not converge\n",
      "  warnings.warn(\"The max_iter was reached which means \"\n",
      "/opt/conda/envs/python3/lib/python3.9/site-packages/sklearn/linear_model/_sag.py:328: ConvergenceWarning: The max_iter was reached which means the coef_ did not converge\n",
      "  warnings.warn(\"The max_iter was reached which means \"\n",
      "/opt/conda/envs/python3/lib/python3.9/site-packages/sklearn/linear_model/_sag.py:328: ConvergenceWarning: The max_iter was reached which means the coef_ did not converge\n",
      "  warnings.warn(\"The max_iter was reached which means \"\n",
      "/opt/conda/envs/python3/lib/python3.9/site-packages/sklearn/linear_model/_sag.py:328: ConvergenceWarning: The max_iter was reached which means the coef_ did not converge\n",
      "  warnings.warn(\"The max_iter was reached which means \"\n",
      "/opt/conda/envs/python3/lib/python3.9/site-packages/sklearn/linear_model/_sag.py:328: ConvergenceWarning: The max_iter was reached which means the coef_ did not converge\n",
      "  warnings.warn(\"The max_iter was reached which means \"\n",
      "/opt/conda/envs/python3/lib/python3.9/site-packages/sklearn/linear_model/_sag.py:328: ConvergenceWarning: The max_iter was reached which means the coef_ did not converge\n",
      "  warnings.warn(\"The max_iter was reached which means \"\n",
      "/opt/conda/envs/python3/lib/python3.9/site-packages/sklearn/linear_model/_sag.py:328: ConvergenceWarning: The max_iter was reached which means the coef_ did not converge\n",
      "  warnings.warn(\"The max_iter was reached which means \"\n",
      "/opt/conda/envs/python3/lib/python3.9/site-packages/sklearn/linear_model/_sag.py:328: ConvergenceWarning: The max_iter was reached which means the coef_ did not converge\n",
      "  warnings.warn(\"The max_iter was reached which means \"\n",
      "/opt/conda/envs/python3/lib/python3.9/site-packages/sklearn/linear_model/_sag.py:328: ConvergenceWarning: The max_iter was reached which means the coef_ did not converge\n",
      "  warnings.warn(\"The max_iter was reached which means \"\n",
      "/opt/conda/envs/python3/lib/python3.9/site-packages/sklearn/linear_model/_sag.py:328: ConvergenceWarning: The max_iter was reached which means the coef_ did not converge\n",
      "  warnings.warn(\"The max_iter was reached which means \"\n",
      "/opt/conda/envs/python3/lib/python3.9/site-packages/sklearn/linear_model/_sag.py:328: ConvergenceWarning: The max_iter was reached which means the coef_ did not converge\n",
      "  warnings.warn(\"The max_iter was reached which means \"\n",
      "/opt/conda/envs/python3/lib/python3.9/site-packages/sklearn/linear_model/_sag.py:328: ConvergenceWarning: The max_iter was reached which means the coef_ did not converge\n",
      "  warnings.warn(\"The max_iter was reached which means \"\n",
      "/opt/conda/envs/python3/lib/python3.9/site-packages/sklearn/linear_model/_sag.py:328: ConvergenceWarning: The max_iter was reached which means the coef_ did not converge\n",
      "  warnings.warn(\"The max_iter was reached which means \"\n",
      "/opt/conda/envs/python3/lib/python3.9/site-packages/sklearn/linear_model/_sag.py:328: ConvergenceWarning: The max_iter was reached which means the coef_ did not converge\n",
      "  warnings.warn(\"The max_iter was reached which means \"\n",
      "/opt/conda/envs/python3/lib/python3.9/site-packages/sklearn/linear_model/_sag.py:328: ConvergenceWarning: The max_iter was reached which means the coef_ did not converge\n",
      "  warnings.warn(\"The max_iter was reached which means \"\n",
      "/opt/conda/envs/python3/lib/python3.9/site-packages/sklearn/linear_model/_sag.py:328: ConvergenceWarning: The max_iter was reached which means the coef_ did not converge\n",
      "  warnings.warn(\"The max_iter was reached which means \"\n",
      "/opt/conda/envs/python3/lib/python3.9/site-packages/sklearn/linear_model/_sag.py:328: ConvergenceWarning: The max_iter was reached which means the coef_ did not converge\n",
      "  warnings.warn(\"The max_iter was reached which means \"\n",
      "/opt/conda/envs/python3/lib/python3.9/site-packages/sklearn/linear_model/_sag.py:328: ConvergenceWarning: The max_iter was reached which means the coef_ did not converge\n",
      "  warnings.warn(\"The max_iter was reached which means \"\n",
      "/opt/conda/envs/python3/lib/python3.9/site-packages/sklearn/linear_model/_sag.py:328: ConvergenceWarning: The max_iter was reached which means the coef_ did not converge\n",
      "  warnings.warn(\"The max_iter was reached which means \"\n",
      "/opt/conda/envs/python3/lib/python3.9/site-packages/sklearn/linear_model/_sag.py:328: ConvergenceWarning: The max_iter was reached which means the coef_ did not converge\n",
      "  warnings.warn(\"The max_iter was reached which means \"\n",
      "/opt/conda/envs/python3/lib/python3.9/site-packages/sklearn/linear_model/_sag.py:328: ConvergenceWarning: The max_iter was reached which means the coef_ did not converge\n",
      "  warnings.warn(\"The max_iter was reached which means \"\n",
      "/opt/conda/envs/python3/lib/python3.9/site-packages/sklearn/linear_model/_sag.py:328: ConvergenceWarning: The max_iter was reached which means the coef_ did not converge\n",
      "  warnings.warn(\"The max_iter was reached which means \"\n",
      "/opt/conda/envs/python3/lib/python3.9/site-packages/sklearn/linear_model/_sag.py:328: ConvergenceWarning: The max_iter was reached which means the coef_ did not converge\n",
      "  warnings.warn(\"The max_iter was reached which means \"\n",
      "/opt/conda/envs/python3/lib/python3.9/site-packages/sklearn/linear_model/_sag.py:328: ConvergenceWarning: The max_iter was reached which means the coef_ did not converge\n",
      "  warnings.warn(\"The max_iter was reached which means \"\n",
      "/opt/conda/envs/python3/lib/python3.9/site-packages/sklearn/linear_model/_sag.py:328: ConvergenceWarning: The max_iter was reached which means the coef_ did not converge\n",
      "  warnings.warn(\"The max_iter was reached which means \"\n",
      "/opt/conda/envs/python3/lib/python3.9/site-packages/sklearn/linear_model/_sag.py:328: ConvergenceWarning: The max_iter was reached which means the coef_ did not converge\n",
      "  warnings.warn(\"The max_iter was reached which means \"\n",
      "/opt/conda/envs/python3/lib/python3.9/site-packages/sklearn/linear_model/_sag.py:328: ConvergenceWarning: The max_iter was reached which means the coef_ did not converge\n",
      "  warnings.warn(\"The max_iter was reached which means \"\n",
      "/opt/conda/envs/python3/lib/python3.9/site-packages/sklearn/linear_model/_sag.py:328: ConvergenceWarning: The max_iter was reached which means the coef_ did not converge\n",
      "  warnings.warn(\"The max_iter was reached which means \"\n",
      "/opt/conda/envs/python3/lib/python3.9/site-packages/sklearn/linear_model/_sag.py:328: ConvergenceWarning: The max_iter was reached which means the coef_ did not converge\n",
      "  warnings.warn(\"The max_iter was reached which means \"\n",
      "/opt/conda/envs/python3/lib/python3.9/site-packages/sklearn/linear_model/_sag.py:328: ConvergenceWarning: The max_iter was reached which means the coef_ did not converge\n",
      "  warnings.warn(\"The max_iter was reached which means \"\n",
      "/opt/conda/envs/python3/lib/python3.9/site-packages/sklearn/linear_model/_sag.py:328: ConvergenceWarning: The max_iter was reached which means the coef_ did not converge\n",
      "  warnings.warn(\"The max_iter was reached which means \"\n",
      "/opt/conda/envs/python3/lib/python3.9/site-packages/sklearn/linear_model/_sag.py:328: ConvergenceWarning: The max_iter was reached which means the coef_ did not converge\n",
      "  warnings.warn(\"The max_iter was reached which means \"\n",
      "/opt/conda/envs/python3/lib/python3.9/site-packages/sklearn/linear_model/_sag.py:328: ConvergenceWarning: The max_iter was reached which means the coef_ did not converge\n",
      "  warnings.warn(\"The max_iter was reached which means \"\n",
      "/opt/conda/envs/python3/lib/python3.9/site-packages/sklearn/linear_model/_sag.py:328: ConvergenceWarning: The max_iter was reached which means the coef_ did not converge\n",
      "  warnings.warn(\"The max_iter was reached which means \"\n"
     ]
    },
    {
     "name": "stderr",
     "output_type": "stream",
     "text": [
      "/opt/conda/envs/python3/lib/python3.9/site-packages/sklearn/linear_model/_sag.py:328: ConvergenceWarning: The max_iter was reached which means the coef_ did not converge\n",
      "  warnings.warn(\"The max_iter was reached which means \"\n",
      "/opt/conda/envs/python3/lib/python3.9/site-packages/sklearn/linear_model/_sag.py:328: ConvergenceWarning: The max_iter was reached which means the coef_ did not converge\n",
      "  warnings.warn(\"The max_iter was reached which means \"\n",
      "/opt/conda/envs/python3/lib/python3.9/site-packages/sklearn/linear_model/_sag.py:328: ConvergenceWarning: The max_iter was reached which means the coef_ did not converge\n",
      "  warnings.warn(\"The max_iter was reached which means \"\n",
      "/opt/conda/envs/python3/lib/python3.9/site-packages/sklearn/linear_model/_sag.py:328: ConvergenceWarning: The max_iter was reached which means the coef_ did not converge\n",
      "  warnings.warn(\"The max_iter was reached which means \"\n",
      "/opt/conda/envs/python3/lib/python3.9/site-packages/sklearn/linear_model/_sag.py:328: ConvergenceWarning: The max_iter was reached which means the coef_ did not converge\n",
      "  warnings.warn(\"The max_iter was reached which means \"\n",
      "/opt/conda/envs/python3/lib/python3.9/site-packages/sklearn/linear_model/_sag.py:328: ConvergenceWarning: The max_iter was reached which means the coef_ did not converge\n",
      "  warnings.warn(\"The max_iter was reached which means \"\n"
     ]
    },
    {
     "name": "stdout",
     "output_type": "stream",
     "text": [
      "Best Parameters:  {'C': 10, 'max_iter': 100, 'penalty': 'l1', 'solver': 'liblinear'}\n",
      "Best Score:  0.7505268824439809\n"
     ]
    },
    {
     "name": "stderr",
     "output_type": "stream",
     "text": [
      "/opt/conda/envs/python3/lib/python3.9/site-packages/sklearn/linear_model/_sag.py:328: ConvergenceWarning: The max_iter was reached which means the coef_ did not converge\n",
      "  warnings.warn(\"The max_iter was reached which means \"\n"
     ]
    }
   ],
   "source": [
    "# Modelo de Regressão Logística\n",
    "# otimizando hiperparametros na regressáo logistica\n",
    "\n",
    "# Define the hyperparameter space\n",
    "param_grid = {\n",
    "    'C': [0.1, 1, 5, 10],\n",
    "    'penalty': ['l1', 'l2'],\n",
    "    'max_iter': [100, 500, 1000],\n",
    "    'solver':['liblinear','saga']\n",
    "}\n",
    "\n",
    "# Initialize the LogisticRegression\n",
    "lr = LogisticRegression()\n",
    "\n",
    "# Initialize GridSearchCV\n",
    "lrgrid_search = GridSearchCV(estimator=lr, param_grid=param_grid, cv=5, scoring='accuracy')\n",
    "\n",
    "# Fit the grid search\n",
    "lrgrid_search.fit(features_train, target_train)\n",
    "\n",
    "# Print the best hyperparameters and the corresponding score\n",
    "print(\"Best Parameters: \", lrgrid_search.best_params_)\n",
    "print(\"Best Score: \", lrgrid_search.best_score_)"
   ]
  },
  {
   "cell_type": "code",
   "execution_count": 60,
   "metadata": {},
   "outputs": [
    {
     "name": "stdout",
     "output_type": "stream",
     "text": [
      "Acurácia do modelo de regressão logística no conjunto de validação: 0.7558320373250389\n",
      "Acurácia do modelo de regressão logística no conjunto de teste: 0.7387247278382582\n"
     ]
    }
   ],
   "source": [
    "# Modelo de Regressão Logística\n",
    "\n",
    "# instanciando o modelo\n",
    "model = LogisticRegression(random_state=12345, solver='liblinear', C=10, max_iter=100, penalty=\"l1\")\n",
    "\n",
    "# treinando o modelo\n",
    "model.fit(features_train, target_train)\n",
    "\n",
    "# calculando scores\n",
    "score_valid = model.score(features_valid,target_valid)\n",
    "score_test = model.score(features_test,target_test)\n",
    "\n",
    "print(\"Acurácia do modelo de regressão logística no conjunto de validação:\", score_valid)\n",
    "print(\"Acurácia do modelo de regressão logística no conjunto de teste:\", score_test)"
   ]
  },
  {
   "cell_type": "markdown",
   "metadata": {},
   "source": [
    "Conclusion:\n",
    "\n",
    "The best model is random forest with an accuracy of 0,7978, followed by decision tree with an accuracy of 0,7916 e logístic regression on third place with accuracy of 0,7387, all in the test group"
   ]
  }
 ],
 "metadata": {
  "ExecuteTimeLog": [
   {
    "duration": 1205,
    "start_time": "2024-07-08T22:49:34.942Z"
   },
   {
    "duration": 4,
    "start_time": "2024-07-08T22:50:13.598Z"
   },
   {
    "duration": 1096,
    "start_time": "2024-07-08T22:50:14.848Z"
   },
   {
    "duration": 26,
    "start_time": "2024-07-08T22:50:30.227Z"
   },
   {
    "duration": 20,
    "start_time": "2024-07-08T22:50:39.205Z"
   },
   {
    "duration": 13,
    "start_time": "2024-07-08T22:50:54.943Z"
   },
   {
    "duration": 10,
    "start_time": "2024-07-08T22:50:56.637Z"
   },
   {
    "duration": 17,
    "start_time": "2024-07-08T22:51:17.050Z"
   },
   {
    "duration": 4,
    "start_time": "2024-07-08T22:52:14.759Z"
   },
   {
    "duration": 7,
    "start_time": "2024-07-08T22:54:04.406Z"
   },
   {
    "duration": 4,
    "start_time": "2024-07-08T22:54:49.452Z"
   },
   {
    "duration": 7,
    "start_time": "2024-07-08T22:55:07.641Z"
   },
   {
    "duration": 10,
    "start_time": "2024-07-08T22:55:44.588Z"
   },
   {
    "duration": 17,
    "start_time": "2024-07-08T22:55:53.501Z"
   },
   {
    "duration": 14,
    "start_time": "2024-07-08T22:56:05.035Z"
   },
   {
    "duration": 4,
    "start_time": "2024-07-08T23:02:21.216Z"
   },
   {
    "duration": 7,
    "start_time": "2024-07-08T23:18:25.545Z"
   },
   {
    "duration": 6,
    "start_time": "2024-07-08T23:18:29.464Z"
   },
   {
    "duration": 10,
    "start_time": "2024-07-08T23:18:31.242Z"
   },
   {
    "duration": 96,
    "start_time": "2024-07-08T23:19:36.487Z"
   },
   {
    "duration": 52,
    "start_time": "2024-07-08T23:21:08.719Z"
   },
   {
    "duration": 4,
    "start_time": "2024-07-08T23:21:12.526Z"
   },
   {
    "duration": 6,
    "start_time": "2024-07-08T23:21:14.338Z"
   },
   {
    "duration": 6,
    "start_time": "2024-07-08T23:21:15.679Z"
   },
   {
    "duration": 31,
    "start_time": "2024-07-08T23:21:17.075Z"
   },
   {
    "duration": 31,
    "start_time": "2024-07-09T00:07:54.751Z"
   },
   {
    "duration": 32,
    "start_time": "2024-07-09T00:09:42.399Z"
   },
   {
    "duration": 94,
    "start_time": "2024-07-09T00:19:22.988Z"
   },
   {
    "duration": 94,
    "start_time": "2024-07-09T00:21:36.232Z"
   },
   {
    "duration": 7,
    "start_time": "2024-07-09T00:24:13.727Z"
   },
   {
    "duration": 5,
    "start_time": "2024-07-09T00:24:17.909Z"
   },
   {
    "duration": 15,
    "start_time": "2024-07-09T00:24:21.812Z"
   },
   {
    "duration": 102,
    "start_time": "2024-07-09T00:24:45.700Z"
   },
   {
    "duration": 28,
    "start_time": "2024-07-09T00:24:56.943Z"
   },
   {
    "duration": 796,
    "start_time": "2024-07-09T00:28:17.875Z"
   },
   {
    "duration": 733,
    "start_time": "2024-07-09T00:28:45.052Z"
   },
   {
    "duration": 75,
    "start_time": "2024-07-09T00:32:10.499Z"
   },
   {
    "duration": 715,
    "start_time": "2024-07-09T00:32:50.034Z"
   },
   {
    "duration": 82,
    "start_time": "2024-07-09T00:32:52.286Z"
   },
   {
    "duration": 716,
    "start_time": "2024-07-09T00:33:19.467Z"
   },
   {
    "duration": 75,
    "start_time": "2024-07-09T00:33:31.393Z"
   },
   {
    "duration": 22,
    "start_time": "2024-07-09T00:35:57.871Z"
   },
   {
    "duration": 21,
    "start_time": "2024-07-09T00:37:46.168Z"
   },
   {
    "duration": 7,
    "start_time": "2024-07-09T00:39:46.206Z"
   },
   {
    "duration": 12,
    "start_time": "2024-07-09T02:48:24.567Z"
   },
   {
    "duration": 16,
    "start_time": "2024-07-09T09:34:52.330Z"
   },
   {
    "duration": 310,
    "start_time": "2024-07-09T09:35:01.200Z"
   },
   {
    "duration": 13,
    "start_time": "2024-07-09T09:58:23.860Z"
   },
   {
    "duration": 1183,
    "start_time": "2024-07-09T09:58:30.567Z"
   },
   {
    "duration": 18,
    "start_time": "2024-07-09T09:58:31.754Z"
   },
   {
    "duration": 18,
    "start_time": "2024-07-09T09:58:31.776Z"
   },
   {
    "duration": 39,
    "start_time": "2024-07-09T09:58:31.802Z"
   },
   {
    "duration": 8,
    "start_time": "2024-07-09T09:58:31.844Z"
   },
   {
    "duration": 5,
    "start_time": "2024-07-09T09:58:31.855Z"
   },
   {
    "duration": 7,
    "start_time": "2024-07-09T09:58:31.863Z"
   },
   {
    "duration": 10,
    "start_time": "2024-07-09T09:58:31.874Z"
   },
   {
    "duration": 0,
    "start_time": "2024-07-09T09:58:31.888Z"
   },
   {
    "duration": 0,
    "start_time": "2024-07-09T09:58:31.930Z"
   },
   {
    "duration": 0,
    "start_time": "2024-07-09T09:58:31.932Z"
   },
   {
    "duration": 0,
    "start_time": "2024-07-09T09:58:31.935Z"
   },
   {
    "duration": 0,
    "start_time": "2024-07-09T09:58:31.936Z"
   },
   {
    "duration": 0,
    "start_time": "2024-07-09T09:58:31.938Z"
   },
   {
    "duration": 0,
    "start_time": "2024-07-09T09:58:31.940Z"
   },
   {
    "duration": 0,
    "start_time": "2024-07-09T09:58:31.942Z"
   },
   {
    "duration": 0,
    "start_time": "2024-07-09T09:58:31.944Z"
   },
   {
    "duration": 0,
    "start_time": "2024-07-09T09:58:31.946Z"
   },
   {
    "duration": 0,
    "start_time": "2024-07-09T09:58:31.948Z"
   },
   {
    "duration": 0,
    "start_time": "2024-07-09T09:58:31.949Z"
   },
   {
    "duration": 0,
    "start_time": "2024-07-09T09:58:31.952Z"
   },
   {
    "duration": 211,
    "start_time": "2024-07-09T09:59:35.673Z"
   },
   {
    "duration": 10,
    "start_time": "2024-07-09T10:00:02.740Z"
   },
   {
    "duration": 7,
    "start_time": "2024-07-09T10:01:25.402Z"
   },
   {
    "duration": 21,
    "start_time": "2024-07-09T10:03:52.232Z"
   },
   {
    "duration": 228,
    "start_time": "2024-07-09T10:20:37.254Z"
   },
   {
    "duration": 4,
    "start_time": "2024-07-09T10:20:50.621Z"
   },
   {
    "duration": 12,
    "start_time": "2024-07-09T10:20:50.629Z"
   },
   {
    "duration": 15,
    "start_time": "2024-07-09T10:20:50.647Z"
   },
   {
    "duration": 16,
    "start_time": "2024-07-09T10:20:50.666Z"
   },
   {
    "duration": 46,
    "start_time": "2024-07-09T10:20:50.685Z"
   },
   {
    "duration": 5,
    "start_time": "2024-07-09T10:20:50.734Z"
   },
   {
    "duration": 7,
    "start_time": "2024-07-09T10:20:50.742Z"
   },
   {
    "duration": 5,
    "start_time": "2024-07-09T10:20:50.752Z"
   },
   {
    "duration": 14,
    "start_time": "2024-07-09T10:20:50.763Z"
   },
   {
    "duration": 63,
    "start_time": "2024-07-09T10:20:50.781Z"
   },
   {
    "duration": 10,
    "start_time": "2024-07-09T10:20:50.847Z"
   },
   {
    "duration": 4,
    "start_time": "2024-07-09T10:20:50.860Z"
   },
   {
    "duration": 86,
    "start_time": "2024-07-09T10:20:50.867Z"
   },
   {
    "duration": 7,
    "start_time": "2024-07-09T10:20:50.955Z"
   },
   {
    "duration": 7,
    "start_time": "2024-07-09T10:20:50.966Z"
   },
   {
    "duration": 9,
    "start_time": "2024-07-09T10:20:50.980Z"
   },
   {
    "duration": 130,
    "start_time": "2024-07-09T10:20:50.993Z"
   },
   {
    "duration": 736,
    "start_time": "2024-07-09T10:20:51.132Z"
   },
   {
    "duration": 0,
    "start_time": "2024-07-09T10:20:51.871Z"
   },
   {
    "duration": 0,
    "start_time": "2024-07-09T10:20:51.873Z"
   },
   {
    "duration": 0,
    "start_time": "2024-07-09T10:20:51.875Z"
   },
   {
    "duration": 0,
    "start_time": "2024-07-09T10:20:51.877Z"
   },
   {
    "duration": 161,
    "start_time": "2024-07-09T10:21:27.751Z"
   },
   {
    "duration": 1442,
    "start_time": "2024-07-09T10:31:34.318Z"
   },
   {
    "duration": 4084,
    "start_time": "2024-07-09T10:33:38.904Z"
   },
   {
    "duration": 1447,
    "start_time": "2024-07-09T10:33:56.051Z"
   },
   {
    "duration": 1310,
    "start_time": "2024-07-09T10:34:15.580Z"
   },
   {
    "duration": 15,
    "start_time": "2024-07-09T10:34:50.774Z"
   },
   {
    "duration": 14,
    "start_time": "2024-07-09T10:35:24.971Z"
   },
   {
    "duration": 6,
    "start_time": "2024-07-09T10:58:36.127Z"
   },
   {
    "duration": 5,
    "start_time": "2024-07-09T10:59:35.192Z"
   },
   {
    "duration": 55870,
    "start_time": "2024-07-09T11:49:01.036Z"
   },
   {
    "duration": 41,
    "start_time": "2024-07-09T11:50:44.079Z"
   },
   {
    "duration": 69,
    "start_time": "2024-07-09T11:50:51.629Z"
   },
   {
    "duration": 712,
    "start_time": "2024-07-09T11:51:08.487Z"
   },
   {
    "duration": 28594,
    "start_time": "2024-07-09T11:51:55.090Z"
   },
   {
    "duration": 61,
    "start_time": "2024-07-09T11:53:08.403Z"
   },
   {
    "duration": 63,
    "start_time": "2024-07-09T11:53:20.494Z"
   },
   {
    "duration": 58,
    "start_time": "2024-07-09T11:53:44.195Z"
   },
   {
    "duration": 4405,
    "start_time": "2024-07-09T11:56:01.672Z"
   },
   {
    "duration": 20,
    "start_time": "2024-07-09T11:56:47.591Z"
   },
   {
    "duration": 58,
    "start_time": "2024-07-09T11:58:51.824Z"
   },
   {
    "duration": 10,
    "start_time": "2024-07-09T12:30:57.372Z"
   },
   {
    "duration": 2468,
    "start_time": "2024-07-09T12:31:04.182Z"
   },
   {
    "duration": 4304,
    "start_time": "2024-07-09T12:31:51.297Z"
   },
   {
    "duration": 0,
    "start_time": "2024-07-09T12:33:55.218Z"
   },
   {
    "duration": 21368,
    "start_time": "2024-07-09T12:34:24.650Z"
   },
   {
    "duration": 19,
    "start_time": "2024-07-09T12:35:48.620Z"
   },
   {
    "duration": 26,
    "start_time": "2024-07-09T12:36:11.579Z"
   },
   {
    "duration": 18,
    "start_time": "2024-07-09T12:36:18.212Z"
   }
  ],
  "kernelspec": {
   "display_name": "Python 3 (ipykernel)",
   "language": "python",
   "name": "python3"
  },
  "language_info": {
   "codemirror_mode": {
    "name": "ipython",
    "version": 3
   },
   "file_extension": ".py",
   "mimetype": "text/x-python",
   "name": "python",
   "nbconvert_exporter": "python",
   "pygments_lexer": "ipython3",
   "version": "3.9.19"
  },
  "toc": {
   "base_numbering": 1,
   "nav_menu": {},
   "number_sections": true,
   "sideBar": true,
   "skip_h1_title": true,
   "title_cell": "Table of Contents",
   "title_sidebar": "Contents",
   "toc_cell": false,
   "toc_position": {},
   "toc_section_display": true,
   "toc_window_display": false
  }
 },
 "nbformat": 4,
 "nbformat_minor": 2
}
